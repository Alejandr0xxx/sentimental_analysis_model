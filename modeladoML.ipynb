{
 "cells": [
  {
   "cell_type": "code",
   "execution_count": 9,
   "id": "b6affd81",
   "metadata": {},
   "outputs": [],
   "source": [
    "import sys\n",
    "sys.path.append('./')"
   ]
  },
  {
   "cell_type": "code",
   "execution_count": 10,
   "id": "bc59b638",
   "metadata": {},
   "outputs": [],
   "source": [
    "import pandas as pd\n",
    "import numpy as np\n",
    "from constants import PROCESSED_DF_PATH\n",
    "from sklearn.model_selection import train_test_split\n",
    "from sklearn.feature_extraction.text import TfidfVectorizer\n",
    "from sklearn.linear_model import LogisticRegression\n",
    "from sklearn.multiclass import OneVsRestClassifier\n",
    "from sklearn.model_selection import GridSearchCV\n",
    "from sklearn.naive_bayes import MultinomialNB\n",
    "from sklearn.metrics import classification_report\n",
    "import xgboost as xgb\n",
    "from utils import plot_confussion_matrix, save_model, load_model, model_exists, test_model_dict, clean_text, test_model"
   ]
  },
  {
   "cell_type": "code",
   "execution_count": 11,
   "id": "0fd1b1a7",
   "metadata": {},
   "outputs": [],
   "source": [
    "# Leemos nuestro dataset ya procesado\n",
    "df = pd.read_csv(PROCESSED_DF_PATH)"
   ]
  },
  {
   "cell_type": "code",
   "execution_count": 12,
   "id": "4000f268",
   "metadata": {},
   "outputs": [
    {
     "data": {
      "text/html": [
       "<div>\n",
       "<style scoped>\n",
       "    .dataframe tbody tr th:only-of-type {\n",
       "        vertical-align: middle;\n",
       "    }\n",
       "\n",
       "    .dataframe tbody tr th {\n",
       "        vertical-align: top;\n",
       "    }\n",
       "\n",
       "    .dataframe thead th {\n",
       "        text-align: right;\n",
       "    }\n",
       "</style>\n",
       "<table border=\"1\" class=\"dataframe\">\n",
       "  <thead>\n",
       "    <tr style=\"text-align: right;\">\n",
       "      <th></th>\n",
       "      <th>text</th>\n",
       "      <th>category</th>\n",
       "    </tr>\n",
       "  </thead>\n",
       "  <tbody>\n",
       "    <tr>\n",
       "      <th>0</th>\n",
       "      <td>love amazing color black really hard see alway...</td>\n",
       "      <td>2</td>\n",
       "    </tr>\n",
       "    <tr>\n",
       "      <th>1</th>\n",
       "      <td>really like consistent bright throughout size ...</td>\n",
       "      <td>0</td>\n",
       "    </tr>\n",
       "    <tr>\n",
       "      <th>2</th>\n",
       "      <td>grand niece enjoy game</td>\n",
       "      <td>0</td>\n",
       "    </tr>\n",
       "    <tr>\n",
       "      <th>3</th>\n",
       "      <td>let say first unboxed mouse review base little...</td>\n",
       "      <td>1</td>\n",
       "    </tr>\n",
       "    <tr>\n",
       "      <th>4</th>\n",
       "      <td>kid love game he s</td>\n",
       "      <td>0</td>\n",
       "    </tr>\n",
       "  </tbody>\n",
       "</table>\n",
       "</div>"
      ],
      "text/plain": [
       "                                                text  category\n",
       "0  love amazing color black really hard see alway...         2\n",
       "1  really like consistent bright throughout size ...         0\n",
       "2                             grand niece enjoy game         0\n",
       "3  let say first unboxed mouse review base little...         1\n",
       "4                                 kid love game he s         0"
      ]
     },
     "execution_count": 12,
     "metadata": {},
     "output_type": "execute_result"
    }
   ],
   "source": [
    "df.head()"
   ]
  },
  {
   "cell_type": "code",
   "execution_count": 13,
   "id": "c780d558",
   "metadata": {},
   "outputs": [],
   "source": [
    "# Separamos en sets para train y test\n",
    "X = df['text']\n",
    "y = df['category']\n",
    "X_train, X_test, y_train, y_test = train_test_split(X, y, test_size=0.3, random_state=42, shuffle=True)"
   ]
  },
  {
   "cell_type": "code",
   "execution_count": 14,
   "id": "058a00e4",
   "metadata": {},
   "outputs": [],
   "source": [
    "# Instanciamos el modelo de tfidf_vectorizer para realizar la codificación del texto\n",
    "tfidf_vectorizer  = TfidfVectorizer(\n",
    "    max_df = .95,\n",
    "    min_df = 3,\n",
    "    max_features=2500,\n",
    "    strip_accents='ascii',\n",
    "    ngram_range=(1, 2)\n",
    ")"
   ]
  },
  {
   "cell_type": "markdown",
   "id": "ec3480ab",
   "metadata": {},
   "source": [
    "He escogido los parámetros del vectorizer de acuerdo a mi conocimiento del dominio. \n",
    "* Eliminaremos palabras que sean muy comunes y que tal vez no tengan un valor significativo para nuestra predicción al no aportar nada.\n",
    "* Y de igual manera palabras muy extrañas o que tal vez sean errores ortográficos que no aportan nada serán eliminados.\n",
    "* Nos quedaremos con un vocabulario de solamente `2500`, que serán las palabras con mayor peso sobre las reviews.\n",
    "* En caso de que se haya filtrado algún intruso como caracteres con tildes o cosas raras, las vamos a transformar\n",
    "* Y por ultimo no tomaremos solo en cuenta palabras solas, sino también bi-gramas, ya que hay bi-gramas como \"bad - product\", que pueden aportar mucho al modelo."
   ]
  },
  {
   "cell_type": "code",
   "execution_count": 15,
   "id": "53b53647",
   "metadata": {},
   "outputs": [],
   "source": [
    "TFIDF_MODEL_NAME = 'tfidf_model.pkl'\n",
    "MODEL_TYPE = 'ml'\n",
    "\n",
    "if model_exists(TFIDF_MODEL_NAME, MODEL_TYPE):\n",
    "    tfidf_vectorizer = load_model(TFIDF_MODEL_NAME, MODEL_TYPE)\n",
    "else:\n",
    "    tfidf_vectorizer = tfidf_vectorizer.fit(X_train)\n",
    "    save_model(tfidf_vectorizer, TFIDF_MODEL_NAME, MODEL_TYPE)\n",
    "\n",
    "# Entrenamos el codificador con el set de X_train\n",
    "X_train_vectorized = tfidf_vectorizer.transform(X_train)\n",
    "\n",
    "# Usamos el codificador entrenando para convertir X_test\n",
    "X_test_vectorized = tfidf_vectorizer.transform(X_test)"
   ]
  },
  {
   "cell_type": "markdown",
   "id": "bc1386e0",
   "metadata": {},
   "source": [
    "# Regresión Logística con gridSearch\n",
    "Ya que el algoritmo de regresión logística no es tan costoso computacionalmente podemos usar un gridsearch para encontrar los mejores parámetros"
   ]
  },
  {
   "cell_type": "code",
   "execution_count": 16,
   "id": "703a26c4",
   "metadata": {},
   "outputs": [],
   "source": [
    "# Nombre del modelo de regresión logística\n",
    "LR_MODEL_NAME = 'logistic_regression.pkl'\n",
    "\n",
    "# Verificamos si el modelo ya existe\n",
    "if model_exists(LR_MODEL_NAME, MODEL_TYPE):\n",
    "    lr_model = load_model(LR_MODEL_NAME, MODEL_TYPE)\n",
    "# Si el modelo no existe lo instanciamos y entrenamos\n",
    "else:\n",
    "    # Instanciamos el modelo de regresión logística bajo una capa OVR\n",
    "    base_model = OneVsRestClassifier(LogisticRegression(solver='lbfgs'))\n",
    "    \n",
    "    # Definimos los diferentes hiperparámetros a utilizar\n",
    "    param_grid = {\n",
    "        'estimator__C': [0.01, 0.1, 1, 5],\n",
    "        'estimator__max_iter': [50, 100, 250, 500]\n",
    "    }\n",
    "    \n",
    "    # Instanciamos GridSearchCV\n",
    "    grid_search = GridSearchCV(base_model, param_grid, cv=5, scoring='accuracy', verbose=1, n_jobs=-1)\n",
    "    \n",
    "    # Entrenamos el GridSearchCV\n",
    "    grid_search.fit(X_train_vectorized, y_train)\n",
    "    \n",
    "    # Mostramos los mejores resultados e hiperparámetros\n",
    "    print(\"Mejor score:\", grid_search.best_score_)\n",
    "    print(\"Mejores hiperparámetros:\", grid_search.best_params_)    \n",
    "\n",
    "    # Nos quedamos con el mejor modelo\n",
    "    lr_model = grid_search.best_estimator_\n",
    "    \n",
    "    # Guardamos el modelo\n",
    "    save_model(lr_model, LR_MODEL_NAME, MODEL_TYPE)"
   ]
  },
  {
   "cell_type": "code",
   "execution_count": 18,
   "id": "025fd5f2",
   "metadata": {},
   "outputs": [
    {
     "name": "stdout",
     "output_type": "stream",
     "text": [
      "              precision    recall  f1-score   support\n",
      "\n",
      "       Bueno       0.69      0.72      0.70     17745\n",
      "        Malo       0.65      0.70      0.67     18886\n",
      "     Neutral       0.54      0.48      0.51     18821\n",
      "\n",
      "    accuracy                           0.63     55452\n",
      "   macro avg       0.63      0.63      0.63     55452\n",
      "weighted avg       0.62      0.63      0.63     55452\n",
      "\n"
     ]
    }
   ],
   "source": [
    "# Predecimos sobre el set de test\n",
    "y_pred_lr = lr_model.predict(X_test_vectorized)\n",
    "\n",
    "# Vamos a ver como se comporta el modelo con las diferentes clases\n",
    "labels = ['Bueno', 'Malo', 'Neutral']\n",
    "print(classification_report(y_test, y_pred_lr, target_names=labels))"
   ]
  },
  {
   "cell_type": "code",
   "execution_count": 19,
   "id": "c37aca51",
   "metadata": {},
   "outputs": [
    {
     "data": {
      "image/png": "[encoded data removed]",
      "text/plain": [
       "<Figure size 800x500 with 2 Axes>"
      ]
     },
     "metadata": {},
     "output_type": "display_data"
    }
   ],
   "source": [
    "# Graficamos la matriz de confusión\n",
    "plot_confussion_matrix(y_test, y_pred_lr, labels)"
   ]
  },
  {
   "cell_type": "code",
   "execution_count": 20,
   "id": "7b022508",
   "metadata": {},
   "outputs": [],
   "source": [
    "sample_reviews = {\n",
    "    \"Bueno\": [\n",
    "        \"This product exceeded my expectations!\",\n",
    "        \"Absolutely fantastic service.\",\n",
    "        \"I loved it, would definitely buy again.\",\n",
    "        \"Great quality and fast shipping.\",\n",
    "        \"One of the best purchases I’ve ever made.\"\n",
    "    ],\n",
    "    \"Malo\": [\n",
    "        \"This is the worst thing I’ve ever bought.\",\n",
    "        \"Terrible experience, do not recommend.\",\n",
    "        \"Completely useless and broke after a day.\",\n",
    "        \"Very disappointed with this product.\",\n",
    "        \"Waste of money and time.\"\n",
    "    ],\n",
    "    \"Neutral\": [\n",
    "        \"It’s okay, nothing special.\",\n",
    "        \"Average product, works as expected.\",\n",
    "        \"Neither good nor bad.\",\n",
    "        \"Just fine, does the job.\",\n",
    "        \"It’s acceptable for the price.\"\n",
    "    ]\n",
    "}"
   ]
  },
  {
   "cell_type": "code",
   "execution_count": 21,
   "id": "357216b7",
   "metadata": {},
   "outputs": [
    {
     "name": "stdout",
     "output_type": "stream",
     "text": [
      "Valor real                Valor predicho\n",
      "Bueno                              Bueno\n",
      "Bueno                              Bueno\n",
      "Bueno                              Bueno\n",
      "Bueno                              Bueno\n",
      "Bueno                              Bueno\n",
      "Malo                                Malo\n",
      "Malo                                Malo\n",
      "Malo                                Malo\n",
      "Malo                                Malo\n",
      "Malo                                Malo\n",
      "Neutral                          Neutral\n",
      "Neutral                          Neutral\n",
      "Neutral                             Malo\n",
      "Neutral                          Neutral\n",
      "Neutral                          Neutral\n"
     ]
    }
   ],
   "source": [
    "test_model_dict(sample_reviews, lr_model, tfidf_vectorizer, labels)"
   ]
  },
  {
   "cell_type": "markdown",
   "id": "63a724df",
   "metadata": {},
   "source": [
    "# Modelo #2 Multinomial Naive Bayes\n",
    "Al igual que en regresión, con este modelo también podemos permitirnos usar GridSearch "
   ]
  },
  {
   "cell_type": "code",
   "execution_count": 22,
   "id": "ddb14128",
   "metadata": {},
   "outputs": [],
   "source": [
    "MULTINOMIALNB_MODEL_NAME = 'multinomialnb_model.pkl'\n",
    "\n",
    "if model_exists(MULTINOMIALNB_MODEL_NAME, MODEL_TYPE):\n",
    "    mbn_model = load_model(MULTINOMIALNB_MODEL_NAME, MODEL_TYPE)\n",
    "else:\n",
    "    base_model = MultinomialNB()\n",
    "    \n",
    "    param_grid = {\n",
    "    'alpha': [3.0, 5.0, 10.0, 15.0], \n",
    "    'fit_prior': [True, False]  \n",
    "}\n",
    "    \n",
    "    grid_search = GridSearchCV(base_model, param_grid, cv=5, scoring='accuracy', verbose=1, n_jobs=-1)\n",
    "\n",
    "    \n",
    "    grid_search.fit(X_train_vectorized, y_train)\n",
    "\n",
    "    print(\"Mejor score:\", grid_search.best_score_)\n",
    "    print(\"Mejores hiperparámetros:\", grid_search.best_params_)  \n",
    "\n",
    "    mbn_model = grid_search.best_estimator_\n",
    "    \n",
    "    save_model(mbn_model, MULTINOMIALNB_MODEL_NAME, MODEL_TYPE)"
   ]
  },
  {
   "cell_type": "code",
   "execution_count": 24,
   "id": "9504cd96",
   "metadata": {},
   "outputs": [
    {
     "name": "stdout",
     "output_type": "stream",
     "text": [
      "              precision    recall  f1-score   support\n",
      "\n",
      "       Bueno       0.67      0.68      0.68     17745\n",
      "        Malo       0.65      0.64      0.65     18886\n",
      "     Neutral       0.51      0.51      0.51     18821\n",
      "\n",
      "    accuracy                           0.61     55452\n",
      "   macro avg       0.61      0.61      0.61     55452\n",
      "weighted avg       0.61      0.61      0.61     55452\n",
      "\n"
     ]
    }
   ],
   "source": [
    "y_pred_mnb = mbn_model.predict(X_test_vectorized)\n",
    "\n",
    "print(classification_report(y_test, y_pred_mnb, target_names=labels))"
   ]
  },
  {
   "cell_type": "code",
   "execution_count": 26,
   "id": "05f07a8d",
   "metadata": {},
   "outputs": [
    {
     "data": {
      "image/png": "[encoded data removed]",
      "text/plain": [
       "<Figure size 800x500 with 2 Axes>"
      ]
     },
     "metadata": {},
     "output_type": "display_data"
    }
   ],
   "source": [
    "plot_confussion_matrix(y_test, y_pred_mnb, labels)"
   ]
  },
  {
   "cell_type": "code",
   "execution_count": 28,
   "id": "80476ef0",
   "metadata": {},
   "outputs": [
    {
     "name": "stdout",
     "output_type": "stream",
     "text": [
      "Valor real                Valor predicho\n",
      "Bueno                              Bueno\n",
      "Bueno                              Bueno\n",
      "Bueno                              Bueno\n",
      "Bueno                              Bueno\n",
      "Bueno                              Bueno\n",
      "Malo                                Malo\n",
      "Malo                                Malo\n",
      "Malo                                Malo\n",
      "Malo                                Malo\n",
      "Malo                                Malo\n",
      "Neutral                          Neutral\n",
      "Neutral                          Neutral\n",
      "Neutral                             Malo\n",
      "Neutral                          Neutral\n",
      "Neutral                          Neutral\n"
     ]
    }
   ],
   "source": [
    "test_model_dict(sample_reviews, lr_model, tfidf_vectorizer, labels)\n"
   ]
  },
  {
   "cell_type": "markdown",
   "id": "767bf8b2",
   "metadata": {},
   "source": [
    "# Modelo ensamblado XGBoosting"
   ]
  },
  {
   "cell_type": "code",
   "execution_count": 31,
   "id": "d9101ba6",
   "metadata": {},
   "outputs": [],
   "source": [
    "# Vamos a pasar los datos a un tipo de estructura que es más eficiente con este modelo\n",
    "d_train = xgb.DMatrix(X_train_vectorized, label=y_train)\n",
    "d_test = xgb.DMatrix(X_test_vectorized, label=y_test)"
   ]
  },
  {
   "cell_type": "code",
   "execution_count": 32,
   "id": "18ed41c9",
   "metadata": {},
   "outputs": [],
   "source": [
    "XGB_MODEL_NAME = 'xgb_model.pkl'\n",
    "ROUNDS = 100\n",
    "if model_exists(XGB_MODEL_NAME, MODEL_TYPE):\n",
    "    xgb_model = load_model(XGB_MODEL_NAME, MODEL_TYPE)\n",
    "else:\n",
    "    xgb_params = {\n",
    "    'objective': 'multi:softmax',  \n",
    "    'num_class': 3,                \n",
    "    'max_depth': 6,                \n",
    "    'eta': 0.3,                    \n",
    "    'eval_metric': 'merror'\n",
    "    }\n",
    "    \n",
    "    xgb_model = xgb.train(xgb_params, d_train, ROUNDS)\n",
    "\n",
    "    save_model(xgb_model, XGB_MODEL_NAME, MODEL_TYPE)"
   ]
  },
  {
   "cell_type": "code",
   "execution_count": 34,
   "id": "94557987",
   "metadata": {},
   "outputs": [
    {
     "name": "stdout",
     "output_type": "stream",
     "text": [
      "              precision    recall  f1-score   support\n",
      "\n",
      "       Bueno       0.69      0.65      0.67     17745\n",
      "        Malo       0.62      0.69      0.65     18886\n",
      "     Neutral       0.52      0.48      0.50     18821\n",
      "\n",
      "    accuracy                           0.61     55452\n",
      "   macro avg       0.61      0.61      0.61     55452\n",
      "weighted avg       0.61      0.61      0.61     55452\n",
      "\n"
     ]
    }
   ],
   "source": [
    "y_pred_xgb = xgb_model.predict(d_test)\n",
    "\n",
    "print(classification_report(y_test, y_pred_xgb, target_names=labels))"
   ]
  },
  {
   "cell_type": "code",
   "execution_count": 36,
   "id": "8752e5d2",
   "metadata": {},
   "outputs": [
    {
     "data": {
      "image/png": "[encoded data removed]",
      "text/plain": [
       "<Figure size 800x500 with 2 Axes>"
      ]
     },
     "metadata": {},
     "output_type": "display_data"
    }
   ],
   "source": [
    "plot_confussion_matrix(y_test, y_pred_xgb, labels)"
   ]
  },
  {
   "cell_type": "code",
   "execution_count": 37,
   "id": "0f83c44c",
   "metadata": {},
   "outputs": [
    {
     "name": "stdout",
     "output_type": "stream",
     "text": [
      "Valor real           Valor Predicho\n",
      "Bueno                     Malo\n",
      "Bueno                    Bueno\n",
      "Bueno                    Bueno\n",
      "Bueno                    Bueno\n",
      "Bueno                    Bueno\n",
      "Valor real           Valor Predicho\n",
      "Malo                     Malo\n",
      "Malo                     Malo\n",
      "Malo                     Malo\n",
      "Malo                     Malo\n",
      "Malo                     Malo\n",
      "Valor real           Valor Predicho\n",
      "Neutral                  Neutral\n",
      "Neutral                  Neutral\n",
      "Neutral                  Neutral\n",
      "Neutral                  Neutral\n",
      "Neutral                    Bueno\n"
     ]
    }
   ],
   "source": [
    "for label, reviews in sample_reviews.items():\n",
    "    print(f'Valor real{\"Valor Predicho\".rjust(25)}')\n",
    "    for review in reviews:\n",
    "        review = tfidf_vectorizer.transform([clean_text(review)])\n",
    "        pred = xgb_model.predict(xgb.DMatrix(review))\n",
    "        print(f'{label}{labels[pred[0].astype(np.int8)].rjust(25)}')"
   ]
  },
  {
   "cell_type": "markdown",
   "id": "cb886628",
   "metadata": {},
   "source": [
    "# Conclusión final\n",
    "Habiendo usado tres modelos diferentes desde uno simple hasta algo un poco más complejo, podemos ver que los tres siguen una tendencia similar; Teniendo carencias con la categoria Neutral, y bastante mejores con las otras dos.\n",
    "\n",
    "Pienso que esto pudo haber ocurrido debido a como se realizo el etiquetado de las muestras, ya que la categoría neutral al ser reviews de 3 estrellas pueden llegar a ser menos sutiles/evidentes lo que haría que a estos modelos se les complique encontrar patrones en cuanto a su sentimiento o tono a diferencia de categorías más negativas o positivas que suele estar más cargado de emociones.\n",
    "\n",
    "De todas maneras lo curioso es que el modelo más simple (Regresión logística) fue el que mejor resultado me dió, es el que mejor se comporta a nivel general, mientras que el modelo MultinomialNB tiene un recall más bajo en las categorías malo/bueno, pero de acuerdo a su matriz de confusión es un poco mejor en neutral, pero no creo que esa pequeña mejora valga la perdida en las otras dos clases. "
   ]
  },
  {
   "cell_type": "code",
   "execution_count": 41,
   "id": "3d751423",
   "metadata": {},
   "outputs": [
    {
     "name": "stdout",
     "output_type": "stream",
     "text": [
      "Bueno\n",
      "Bueno\n"
     ]
    }
   ],
   "source": [
    "text = \"This one of the best products I have ever bought, I would totally recommend it to a friend!\"\n",
    "print(test_model(text, lr_model, tfidf_vectorizer, labels))\n",
    "print(test_model(text, mbn_model, tfidf_vectorizer, labels))"
   ]
  }
 ],
 "metadata": {
  "kernelspec": {
   "display_name": "NLPEnv",
   "language": "python",
   "name": "python3"
  },
  "language_info": {
   "codemirror_mode": {
    "name": "ipython",
    "version": 3
   },
   "file_extension": ".py",
   "mimetype": "text/x-python",
   "name": "python",
   "nbconvert_exporter": "python",
   "pygments_lexer": "ipython3",
   "version": "3.11.11"
  }
 },
 "nbformat": 4,
 "nbformat_minor": 5
}
