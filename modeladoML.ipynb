{
 "cells": [
  {
   "cell_type": "code",
   "execution_count": 1,
   "id": "b6affd81",
   "metadata": {},
   "outputs": [],
   "source": [
    "import sys\n",
    "sys.path.append('./')"
   ]
  },
  {
   "cell_type": "code",
   "execution_count": 2,
   "id": "bc59b638",
   "metadata": {},
   "outputs": [
    {
     "name": "stderr",
     "output_type": "stream",
     "text": [
      "[nltk_data] Downloading package stopwords to\n",
      "[nltk_data]     C:\\Users\\aleja\\AppData\\Roaming\\nltk_data...\n",
      "[nltk_data]   Package stopwords is already up-to-date!\n"
     ]
    }
   ],
   "source": [
    "import pandas as pd\n",
    "import numpy as np\n",
    "from constants import PROCESSED_DF_PATH\n",
    "from sklearn.model_selection import train_test_split\n",
    "from sklearn.feature_extraction.text import TfidfVectorizer\n",
    "from sklearn.linear_model import LogisticRegression\n",
    "from sklearn.multiclass import OneVsRestClassifier\n",
    "from sklearn.model_selection import GridSearchCV\n",
    "from sklearn.metrics import accuracy_score, classification_report\n",
    "from utils import plot_confussion_matrix, save_model, load_model, model_exists"
   ]
  },
  {
   "cell_type": "code",
   "execution_count": 3,
   "id": "0fd1b1a7",
   "metadata": {},
   "outputs": [],
   "source": [
    "# Leemos nuestro dataset ya procesado\n",
    "df = pd.read_csv(PROCESSED_DF_PATH)"
   ]
  },
  {
   "cell_type": "code",
   "execution_count": 4,
   "id": "4000f268",
   "metadata": {},
   "outputs": [
    {
     "data": {
      "text/html": [
       "<div>\n",
       "<style scoped>\n",
       "    .dataframe tbody tr th:only-of-type {\n",
       "        vertical-align: middle;\n",
       "    }\n",
       "\n",
       "    .dataframe tbody tr th {\n",
       "        vertical-align: top;\n",
       "    }\n",
       "\n",
       "    .dataframe thead th {\n",
       "        text-align: right;\n",
       "    }\n",
       "</style>\n",
       "<table border=\"1\" class=\"dataframe\">\n",
       "  <thead>\n",
       "    <tr style=\"text-align: right;\">\n",
       "      <th></th>\n",
       "      <th>text</th>\n",
       "      <th>Bueno</th>\n",
       "      <th>Malo</th>\n",
       "      <th>Neutral</th>\n",
       "    </tr>\n",
       "  </thead>\n",
       "  <tbody>\n",
       "    <tr>\n",
       "      <th>0</th>\n",
       "      <td>love amazing color black really hard see alway...</td>\n",
       "      <td>0.0</td>\n",
       "      <td>0.0</td>\n",
       "      <td>1.0</td>\n",
       "    </tr>\n",
       "    <tr>\n",
       "      <th>1</th>\n",
       "      <td>really like consistent bright throughout size ...</td>\n",
       "      <td>1.0</td>\n",
       "      <td>0.0</td>\n",
       "      <td>0.0</td>\n",
       "    </tr>\n",
       "    <tr>\n",
       "      <th>2</th>\n",
       "      <td>grand niece enjoy game</td>\n",
       "      <td>1.0</td>\n",
       "      <td>0.0</td>\n",
       "      <td>0.0</td>\n",
       "    </tr>\n",
       "    <tr>\n",
       "      <th>3</th>\n",
       "      <td>let say first unboxed mouse review base little...</td>\n",
       "      <td>0.0</td>\n",
       "      <td>1.0</td>\n",
       "      <td>0.0</td>\n",
       "    </tr>\n",
       "    <tr>\n",
       "      <th>4</th>\n",
       "      <td>kid love game he s</td>\n",
       "      <td>1.0</td>\n",
       "      <td>0.0</td>\n",
       "      <td>0.0</td>\n",
       "    </tr>\n",
       "  </tbody>\n",
       "</table>\n",
       "</div>"
      ],
      "text/plain": [
       "                                                text  Bueno  Malo  Neutral\n",
       "0  love amazing color black really hard see alway...    0.0   0.0      1.0\n",
       "1  really like consistent bright throughout size ...    1.0   0.0      0.0\n",
       "2                             grand niece enjoy game    1.0   0.0      0.0\n",
       "3  let say first unboxed mouse review base little...    0.0   1.0      0.0\n",
       "4                                 kid love game he s    1.0   0.0      0.0"
      ]
     },
     "execution_count": 4,
     "metadata": {},
     "output_type": "execute_result"
    }
   ],
   "source": [
    "df.head()"
   ]
  },
  {
   "cell_type": "code",
   "execution_count": 5,
   "id": "c780d558",
   "metadata": {},
   "outputs": [],
   "source": [
    "# Separamos en sets para train y test\n",
    "X_train, X_test, y_train, y_test = train_test_split(df['text'], df.drop(columns='text'), test_size=0.3, random_state=42, shuffle=True)"
   ]
  },
  {
   "cell_type": "code",
   "execution_count": 6,
   "id": "058a00e4",
   "metadata": {},
   "outputs": [],
   "source": [
    "# Instanciamos el modelo de tfidf_vectorizer para realizar la codificación del texto\n",
    "tfidf_vectorizer  = TfidfVectorizer(\n",
    "    max_df = .95,\n",
    "    min_df = 3,\n",
    "    max_features=2500,\n",
    "    strip_accents='ascii',\n",
    "    ngram_range=(1, 2)\n",
    ")"
   ]
  },
  {
   "cell_type": "code",
   "execution_count": 7,
   "id": "53b53647",
   "metadata": {},
   "outputs": [],
   "source": [
    "# Entrenamos el codificador con el set de X_train\n",
    "X_train_vectorized = tfidf_vectorizer.fit_transform(X_train)\n",
    "\n",
    "# Usamos el codificador entrenando para convertir X_test\n",
    "X_test_vectoized = tfidf_vectorizer.transform(X_test)\n",
    "\n",
    "# Debido a que tengo el dataframe ya codificado en OneHot lo transformaré a etiquetas para Machine Learning\n",
    "y_train_ml, y_test_ml = np.argmax(y_train, axis=1), np.argmax(y_test, axis=1)"
   ]
  },
  {
   "cell_type": "markdown",
   "id": "bc1386e0",
   "metadata": {},
   "source": [
    "# Regresión Logística con gridSearch\n",
    "Ya que el algoritmo de regresión logística no es tan costoso computacionalmente podemos usar un gridsearch para encontrar los mejores parámetros"
   ]
  },
  {
   "cell_type": "code",
   "execution_count": 8,
   "id": "847f8dea",
   "metadata": {},
   "outputs": [],
   "source": [
    "# Nombre del modelo de regresión logística\n",
    "LR_MODEL_NAME = 'logistic_regression.pkl'\n",
    "MODEL_TYPE = 'ml'"
   ]
  },
  {
   "cell_type": "code",
   "execution_count": null,
   "id": "703a26c4",
   "metadata": {},
   "outputs": [],
   "source": [
    "# Verificamos si el modelo ya existe\n",
    "if model_exists(LR_MODEL_NAME, MODEL_TYPE):\n",
    "    lr = load_model(LR_MODEL_NAME, MODEL_TYPE)\n",
    "# Si el modelo no existe lo instanciamos y entrenamos\n",
    "else:\n",
    "    # Instanciamos el modelo de regresión logística bajo una capa OVR\n",
    "    base_model = OneVsRestClassifier(LogisticRegression(solver='lbfgs'))\n",
    "    \n",
    "    # Definimos los diferentes hiperparámetros a utilizar\n",
    "    param_grid = {\n",
    "        'estimator__C': [0.01, 0.1, 1, 5],\n",
    "        'estimator__max_iter': [50, 100, 250, 500]\n",
    "    }\n",
    "    \n",
    "    # Instanciamos GridSearchCV\n",
    "    grid_search = GridSearchCV(base_model, param_grid, cv=5, scoring='accuracy', verbose=2, n_jobs=-1)\n",
    "    \n",
    "    # Entrenamos el GridSearchCV\n",
    "    grid_search.fit(X_train_vectorized, y_train_ml)\n",
    "    \n",
    "    # Mostramos los mejores resultados e hiperparámetros\n",
    "    print(\"Mejor score:\", grid_search.best_score_)\n",
    "    print(\"Mejores hiperparámetros:\", grid_search.best_params_)    \n",
    "\n",
    "    # Nos quedamos con el mejor modelo\n",
    "    lr = grid_search.best_estimator_\n",
    "    \n",
    "    # Guardamos el modelo\n",
    "    save_model(lr, LR_MODEL_NAME, MODEL_TYPE)"
   ]
  },
  {
   "cell_type": "code",
   "execution_count": null,
   "id": "a2abe75a",
   "metadata": {},
   "outputs": [
    {
     "name": "stdout",
     "output_type": "stream",
     "text": [
      "Precisión del modelo: 0.63\n"
     ]
    }
   ],
   "source": [
    "# Predecimos sobre el set de test\n",
    "y_pred_lr = lr.predict(X_test_vectoized)\n",
    "accuracy_lr = accuracy_score(y_test_ml, y_pred_lr)\n",
    "\n",
    "#Imprimimos el accuracy\n",
    "print(f'Precisión del modelo: {accuracy_lr:.2f}')"
   ]
  },
  {
   "cell_type": "code",
   "execution_count": null,
   "id": "025fd5f2",
   "metadata": {},
   "outputs": [
    {
     "name": "stdout",
     "output_type": "stream",
     "text": [
      "              precision    recall  f1-score   support\n",
      "\n",
      "       Bueno       0.69      0.72      0.70     17745\n",
      "        Malo       0.65      0.70      0.67     18886\n",
      "     Neutral       0.54      0.48      0.51     18821\n",
      "\n",
      "    accuracy                           0.63     55452\n",
      "   macro avg       0.63      0.63      0.63     55452\n",
      "weighted avg       0.62      0.63      0.63     55452\n",
      "\n"
     ]
    }
   ],
   "source": [
    "# Vamos a ver como se comporta el modelo con las diferentes clases\n",
    "labels = list(y_test.columns)\n",
    "print(classification_report(y_test_ml, y_pred_lr, target_names=labels))"
   ]
  },
  {
   "cell_type": "code",
   "execution_count": null,
   "id": "c37aca51",
   "metadata": {},
   "outputs": [
    {
     "data": {
      "image/png": "[encoded data removed]",
      "text/plain": [
       "<Figure size 800x500 with 2 Axes>"
      ]
     },
     "metadata": {},
     "output_type": "display_data"
    }
   ],
   "source": [
    "# Graficamos la matriz de confusión\n",
    "plot_confussion_matrix(y_test_ml, y_pred_lr, labels)"
   ]
  }
 ],
 "metadata": {
  "kernelspec": {
   "display_name": "NLPEnv",
   "language": "python",
   "name": "python3"
  },
  "language_info": {
   "codemirror_mode": {
    "name": "ipython",
    "version": 3
   },
   "file_extension": ".py",
   "mimetype": "text/x-python",
   "name": "python",
   "nbconvert_exporter": "python",
   "pygments_lexer": "ipython3",
   "version": "3.11.11"
  }
 },
 "nbformat": 4,
 "nbformat_minor": 5
}
