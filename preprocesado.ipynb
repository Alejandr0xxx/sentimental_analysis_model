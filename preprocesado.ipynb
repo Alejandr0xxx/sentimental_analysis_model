{
 "cells": [
  {
   "cell_type": "code",
   "execution_count": 1,
   "id": "5305160e",
   "metadata": {},
   "outputs": [],
   "source": [
    "import sys\n",
    "sys.path.append('./')"
   ]
  },
  {
   "cell_type": "code",
   "execution_count": 2,
   "id": "9cda9806",
   "metadata": {},
   "outputs": [
    {
     "name": "stderr",
     "output_type": "stream",
     "text": [
      "[nltk_data] Downloading package stopwords to\n",
      "[nltk_data]     C:\\Users\\aleja\\AppData\\Roaming\\nltk_data...\n",
      "[nltk_data]   Package stopwords is already up-to-date!\n"
     ]
    }
   ],
   "source": [
    "import pandas as pd\n",
    "from utils import clean_text, path_exists\n",
    "from constants import CODIFIED_DF_PATH, PROCESSED_DF_PATH"
   ]
  },
  {
   "cell_type": "code",
   "execution_count": 3,
   "id": "e82f3602",
   "metadata": {},
   "outputs": [],
   "source": [
    "# Leemos el csv con los datos salidos del EDA\n",
    "df = pd.read_csv(CODIFIED_DF_PATH)"
   ]
  },
  {
   "cell_type": "code",
   "execution_count": 4,
   "id": "3e65b735",
   "metadata": {},
   "outputs": [
    {
     "data": {
      "text/html": [
       "<div>\n",
       "<style scoped>\n",
       "    .dataframe tbody tr th:only-of-type {\n",
       "        vertical-align: middle;\n",
       "    }\n",
       "\n",
       "    .dataframe tbody tr th {\n",
       "        vertical-align: top;\n",
       "    }\n",
       "\n",
       "    .dataframe thead th {\n",
       "        text-align: right;\n",
       "    }\n",
       "</style>\n",
       "<table border=\"1\" class=\"dataframe\">\n",
       "  <thead>\n",
       "    <tr style=\"text-align: right;\">\n",
       "      <th></th>\n",
       "      <th>category</th>\n",
       "      <th>text</th>\n",
       "    </tr>\n",
       "  </thead>\n",
       "  <tbody>\n",
       "    <tr>\n",
       "      <th>0</th>\n",
       "      <td>2</td>\n",
       "      <td>love all the amazing colors but the black is r...</td>\n",
       "    </tr>\n",
       "    <tr>\n",
       "      <th>1</th>\n",
       "      <td>0</td>\n",
       "      <td>I really like how consistent the bright was is...</td>\n",
       "    </tr>\n",
       "    <tr>\n",
       "      <th>2</th>\n",
       "      <td>0</td>\n",
       "      <td>My grand niece and i are enjoying with games ...</td>\n",
       "    </tr>\n",
       "    <tr>\n",
       "      <th>3</th>\n",
       "      <td>1</td>\n",
       "      <td>Let me say first off that I have just unboxed ...</td>\n",
       "    </tr>\n",
       "    <tr>\n",
       "      <th>4</th>\n",
       "      <td>0</td>\n",
       "      <td>My kid loves this game he’s 5/6</td>\n",
       "    </tr>\n",
       "  </tbody>\n",
       "</table>\n",
       "</div>"
      ],
      "text/plain": [
       "   category                                               text\n",
       "0         2  love all the amazing colors but the black is r...\n",
       "1         0  I really like how consistent the bright was is...\n",
       "2         0   My grand niece and i are enjoying with games ...\n",
       "3         1  Let me say first off that I have just unboxed ...\n",
       "4         0                    My kid loves this game he’s 5/6"
      ]
     },
     "execution_count": 4,
     "metadata": {},
     "output_type": "execute_result"
    }
   ],
   "source": [
    "df.head()"
   ]
  },
  {
   "cell_type": "code",
   "execution_count": 5,
   "id": "ff5d0072",
   "metadata": {},
   "outputs": [
    {
     "data": {
      "text/plain": [
       "(184970, 2)"
      ]
     },
     "execution_count": 5,
     "metadata": {},
     "output_type": "execute_result"
    }
   ],
   "source": [
    "df.shape"
   ]
  },
  {
   "cell_type": "code",
   "execution_count": 6,
   "id": "150bf4b6",
   "metadata": {},
   "outputs": [
    {
     "data": {
      "text/plain": [
       "0"
      ]
     },
     "execution_count": 6,
     "metadata": {},
     "output_type": "execute_result"
    }
   ],
   "source": [
    "df.isna().sum().sum()"
   ]
  },
  {
   "cell_type": "code",
   "execution_count": null,
   "id": "451afa31",
   "metadata": {},
   "outputs": [
    {
     "ename": "AttributeError",
     "evalue": "'Series' object has no attribute 'df'",
     "output_type": "error",
     "traceback": [
      "\u001b[31m---------------------------------------------------------------------------\u001b[39m",
      "\u001b[31mAttributeError\u001b[39m                            Traceback (most recent call last)",
      "\u001b[32m~\\AppData\\Local\\Temp\\ipykernel_8640\\2358249431.py\u001b[39m in \u001b[36m?\u001b[39m\u001b[34m()\u001b[39m\n\u001b[32m      1\u001b[39m \u001b[38;5;66;03m# Guardamos el df en caso de que no exista\u001b[39;00m\n\u001b[32m      2\u001b[39m \u001b[38;5;28;01mif\u001b[39;00m \u001b[38;5;28;01mnot\u001b[39;00m path_exists(PROCESSED_DF_PATH):\n\u001b[32m      3\u001b[39m     \u001b[38;5;66;03m# Los pasamos a través de la función del preprocesamiento\u001b[39;00m\n\u001b[32m----> \u001b[39m\u001b[32m4\u001b[39m     df_processed = pd.concat([df[\u001b[33m'text'\u001b[39m].apply(clean_text).df.drop(columns=\u001b[33m'text'\u001b[39m)], axis=\u001b[32m1\u001b[39m)\n\u001b[32m      5\u001b[39m \n\u001b[32m      6\u001b[39m     print(\u001b[33mf'Actualmente hay {df_processed.shape[0]} registros'\u001b[39m)\n\u001b[32m      7\u001b[39m \n",
      "\u001b[32mc:\\Users\\aleja\\anaconda3\\envs\\NLPEnv\\Lib\\site-packages\\pandas\\core\\generic.py\u001b[39m in \u001b[36m?\u001b[39m\u001b[34m(self, name)\u001b[39m\n\u001b[32m   6295\u001b[39m             \u001b[38;5;28;01mand\u001b[39;00m name \u001b[38;5;28;01mnot\u001b[39;00m \u001b[38;5;28;01min\u001b[39;00m self._accessors\n\u001b[32m   6296\u001b[39m             \u001b[38;5;28;01mand\u001b[39;00m self._info_axis._can_hold_identifiers_and_holds_name(name)\n\u001b[32m   6297\u001b[39m         ):\n\u001b[32m   6298\u001b[39m             \u001b[38;5;28;01mreturn\u001b[39;00m self[name]\n\u001b[32m-> \u001b[39m\u001b[32m6299\u001b[39m         \u001b[38;5;28;01mreturn\u001b[39;00m object.__getattribute__(self, name)\n",
      "\u001b[31mAttributeError\u001b[39m: 'Series' object has no attribute 'df'"
     ]
    }
   ],
   "source": [
    "# Guardamos el df en caso de que no exista\n",
    "if not path_exists(PROCESSED_DF_PATH):\n",
    "    # Los pasamos a través de la función del preprocesamiento\n",
    "    df_processed = pd.concat([df['text'].apply(clean_text), df['category']], axis=1)\n",
    "    \n",
    "    print(f'Actualmente hay {df_processed.shape[0]} registros')\n",
    "    \n",
    "    # Debido a la naturaleza de los datos y el funcionamiento de la eliminación de stopwords y demás procesos, puede ocurrir que en ciertas reviews al final se quede el texto vacío\n",
    "    # Por lo que para evitar tener filas con datos nulos vamos a realizar un ultimo dropeo de valores na o cualquier otro valor no deseado\n",
    "    df_processed = df_processed[df_processed['text'].fillna(\"\").str.strip() != \"\"]\n",
    "    \n",
    "    print(f'Hay {df_processed.isna().sum().sum()} valores nulos')\n",
    "    \n",
    "    df_processed.to_csv(PROCESSED_DF_PATH, index=False)\n",
    "else:\n",
    "    df_processed = pd.read_csv(PROCESSED_DF_PATH)"
   ]
  },
  {
   "cell_type": "code",
   "execution_count": null,
   "id": "42d57be6",
   "metadata": {},
   "outputs": [
    {
     "data": {
      "text/html": [
       "<div>\n",
       "<style scoped>\n",
       "    .dataframe tbody tr th:only-of-type {\n",
       "        vertical-align: middle;\n",
       "    }\n",
       "\n",
       "    .dataframe tbody tr th {\n",
       "        vertical-align: top;\n",
       "    }\n",
       "\n",
       "    .dataframe thead th {\n",
       "        text-align: right;\n",
       "    }\n",
       "</style>\n",
       "<table border=\"1\" class=\"dataframe\">\n",
       "  <thead>\n",
       "    <tr style=\"text-align: right;\">\n",
       "      <th></th>\n",
       "      <th>text</th>\n",
       "      <th>Bueno</th>\n",
       "      <th>Malo</th>\n",
       "      <th>Neutral</th>\n",
       "    </tr>\n",
       "  </thead>\n",
       "  <tbody>\n",
       "    <tr>\n",
       "      <th>0</th>\n",
       "      <td>love amazing color black really hard see alway...</td>\n",
       "      <td>0.0</td>\n",
       "      <td>0.0</td>\n",
       "      <td>1.0</td>\n",
       "    </tr>\n",
       "    <tr>\n",
       "      <th>1</th>\n",
       "      <td>really like consistent bright throughout size ...</td>\n",
       "      <td>1.0</td>\n",
       "      <td>0.0</td>\n",
       "      <td>0.0</td>\n",
       "    </tr>\n",
       "    <tr>\n",
       "      <th>2</th>\n",
       "      <td>grand niece enjoy game</td>\n",
       "      <td>1.0</td>\n",
       "      <td>0.0</td>\n",
       "      <td>0.0</td>\n",
       "    </tr>\n",
       "    <tr>\n",
       "      <th>3</th>\n",
       "      <td>let say first unboxed mouse review base little...</td>\n",
       "      <td>0.0</td>\n",
       "      <td>1.0</td>\n",
       "      <td>0.0</td>\n",
       "    </tr>\n",
       "    <tr>\n",
       "      <th>4</th>\n",
       "      <td>kid love game he s</td>\n",
       "      <td>1.0</td>\n",
       "      <td>0.0</td>\n",
       "      <td>0.0</td>\n",
       "    </tr>\n",
       "  </tbody>\n",
       "</table>\n",
       "</div>"
      ],
      "text/plain": [
       "                                                text  Bueno  Malo  Neutral\n",
       "0  love amazing color black really hard see alway...    0.0   0.0      1.0\n",
       "1  really like consistent bright throughout size ...    1.0   0.0      0.0\n",
       "2                             grand niece enjoy game    1.0   0.0      0.0\n",
       "3  let say first unboxed mouse review base little...    0.0   1.0      0.0\n",
       "4                                 kid love game he s    1.0   0.0      0.0"
      ]
     },
     "execution_count": 55,
     "metadata": {},
     "output_type": "execute_result"
    }
   ],
   "source": [
    "df_processed.head()"
   ]
  },
  {
   "cell_type": "code",
   "execution_count": null,
   "id": "a5fd5f6d",
   "metadata": {},
   "outputs": [
    {
     "data": {
      "text/plain": [
       "(184838, 4)"
      ]
     },
     "execution_count": 56,
     "metadata": {},
     "output_type": "execute_result"
    }
   ],
   "source": [
    "df_processed.shape"
   ]
  },
  {
   "cell_type": "code",
   "execution_count": null,
   "id": "64e2646c",
   "metadata": {},
   "outputs": [
    {
     "data": {
      "text/plain": [
       "text       0\n",
       "Bueno      0\n",
       "Malo       0\n",
       "Neutral    0\n",
       "dtype: int64"
      ]
     },
     "execution_count": 57,
     "metadata": {},
     "output_type": "execute_result"
    }
   ],
   "source": [
    "df_processed.isna().sum()"
   ]
  }
 ],
 "metadata": {
  "kernelspec": {
   "display_name": "NLPEnv",
   "language": "python",
   "name": "python3"
  },
  "language_info": {
   "codemirror_mode": {
    "name": "ipython",
    "version": 3
   },
   "file_extension": ".py",
   "mimetype": "text/x-python",
   "name": "python",
   "nbconvert_exporter": "python",
   "pygments_lexer": "ipython3",
   "version": "3.11.11"
  }
 },
 "nbformat": 4,
 "nbformat_minor": 5
}
