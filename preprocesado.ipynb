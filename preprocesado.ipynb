{
 "cells": [
  {
   "cell_type": "code",
   "execution_count": 48,
   "id": "5305160e",
   "metadata": {},
   "outputs": [],
   "source": [
    "import sys\n",
    "sys.path.append('./')"
   ]
  },
  {
   "cell_type": "code",
   "execution_count": 49,
   "id": "9cda9806",
   "metadata": {},
   "outputs": [],
   "source": [
    "import pandas as pd\n",
    "from utils import limpiar_texto, path_exists\n",
    "from constants import CODIFIED_DF_PATH, PROCESSED_DF_PATH"
   ]
  },
  {
   "cell_type": "code",
   "execution_count": 50,
   "id": "e82f3602",
   "metadata": {},
   "outputs": [],
   "source": [
    "# Leemos el csv con los datos salidos del EDA\n",
    "df = pd.read_csv(CODIFIED_DF_PATH)"
   ]
  },
  {
   "cell_type": "code",
   "execution_count": 51,
   "id": "3e65b735",
   "metadata": {},
   "outputs": [
    {
     "data": {
      "text/html": [
       "<div>\n",
       "<style scoped>\n",
       "    .dataframe tbody tr th:only-of-type {\n",
       "        vertical-align: middle;\n",
       "    }\n",
       "\n",
       "    .dataframe tbody tr th {\n",
       "        vertical-align: top;\n",
       "    }\n",
       "\n",
       "    .dataframe thead th {\n",
       "        text-align: right;\n",
       "    }\n",
       "</style>\n",
       "<table border=\"1\" class=\"dataframe\">\n",
       "  <thead>\n",
       "    <tr style=\"text-align: right;\">\n",
       "      <th></th>\n",
       "      <th>text</th>\n",
       "      <th>Bueno</th>\n",
       "      <th>Malo</th>\n",
       "      <th>Neutral</th>\n",
       "    </tr>\n",
       "  </thead>\n",
       "  <tbody>\n",
       "    <tr>\n",
       "      <th>0</th>\n",
       "      <td>love all the amazing colors but the black is r...</td>\n",
       "      <td>0.0</td>\n",
       "      <td>0.0</td>\n",
       "      <td>1.0</td>\n",
       "    </tr>\n",
       "    <tr>\n",
       "      <th>1</th>\n",
       "      <td>I really like how consistent the bright was is...</td>\n",
       "      <td>1.0</td>\n",
       "      <td>0.0</td>\n",
       "      <td>0.0</td>\n",
       "    </tr>\n",
       "    <tr>\n",
       "      <th>2</th>\n",
       "      <td>My grand niece and i are enjoying with games ...</td>\n",
       "      <td>1.0</td>\n",
       "      <td>0.0</td>\n",
       "      <td>0.0</td>\n",
       "    </tr>\n",
       "    <tr>\n",
       "      <th>3</th>\n",
       "      <td>Let me say first off that I have just unboxed ...</td>\n",
       "      <td>0.0</td>\n",
       "      <td>1.0</td>\n",
       "      <td>0.0</td>\n",
       "    </tr>\n",
       "    <tr>\n",
       "      <th>4</th>\n",
       "      <td>My kid loves this game he’s 5/6</td>\n",
       "      <td>1.0</td>\n",
       "      <td>0.0</td>\n",
       "      <td>0.0</td>\n",
       "    </tr>\n",
       "  </tbody>\n",
       "</table>\n",
       "</div>"
      ],
      "text/plain": [
       "                                                text  Bueno  Malo  Neutral\n",
       "0  love all the amazing colors but the black is r...    0.0   0.0      1.0\n",
       "1  I really like how consistent the bright was is...    1.0   0.0      0.0\n",
       "2   My grand niece and i are enjoying with games ...    1.0   0.0      0.0\n",
       "3  Let me say first off that I have just unboxed ...    0.0   1.0      0.0\n",
       "4                    My kid loves this game he’s 5/6    1.0   0.0      0.0"
      ]
     },
     "execution_count": 51,
     "metadata": {},
     "output_type": "execute_result"
    }
   ],
   "source": [
    "df.head()"
   ]
  },
  {
   "cell_type": "code",
   "execution_count": 52,
   "id": "ff5d0072",
   "metadata": {},
   "outputs": [
    {
     "data": {
      "text/plain": [
       "(184970, 4)"
      ]
     },
     "execution_count": 52,
     "metadata": {},
     "output_type": "execute_result"
    }
   ],
   "source": [
    "df.shape"
   ]
  },
  {
   "cell_type": "code",
   "execution_count": 53,
   "id": "150bf4b6",
   "metadata": {},
   "outputs": [
    {
     "data": {
      "text/plain": [
       "0"
      ]
     },
     "execution_count": 53,
     "metadata": {},
     "output_type": "execute_result"
    }
   ],
   "source": [
    "df.isna().sum().sum()"
   ]
  },
  {
   "cell_type": "code",
   "execution_count": 54,
   "id": "451afa31",
   "metadata": {},
   "outputs": [
    {
     "name": "stdout",
     "output_type": "stream",
     "text": [
      "Actualmente hay 184970 registros\n",
      "Hay 0 valores nulos\n"
     ]
    }
   ],
   "source": [
    "# Guardamos el df en caso de que no exista\n",
    "if not path_exists(PROCESSED_DF_PATH):\n",
    "    # Los pasamos a través de la función del preprocesamiento\n",
    "    df_processed = pd.concat([df['text'].apply(limpiar_texto), df.drop(columns='text')], axis=1)\n",
    "    \n",
    "    print(f'Actualmente hay {df_processed.shape[0]} registros')\n",
    "    \n",
    "    # Debido a la naturaleza de los datos y el funcionamiento de la eliminación de stopwords y demás procesos, puede ocurrir que en ciertas reviews al final se quede el texto vacío\n",
    "    # Por lo que para evitar tener filas con datos nulos vamos a realizar un ultimo dropeo de valores na o cualquier otro valor no deseado\n",
    "    df_processed = df_processed[df_processed['text'].fillna(\"\").str.strip() != \"\"]\n",
    "    \n",
    "    print(f'Hay {df_processed.isna().sum().sum()} valores nulos')\n",
    "    \n",
    "    df_processed.to_csv(PROCESSED_DF_PATH, index=False)\n",
    "else:\n",
    "    df_processed = pd.read_csv(PROCESSED_DF_PATH)"
   ]
  },
  {
   "cell_type": "code",
   "execution_count": 55,
   "id": "42d57be6",
   "metadata": {},
   "outputs": [
    {
     "data": {
      "text/html": [
       "<div>\n",
       "<style scoped>\n",
       "    .dataframe tbody tr th:only-of-type {\n",
       "        vertical-align: middle;\n",
       "    }\n",
       "\n",
       "    .dataframe tbody tr th {\n",
       "        vertical-align: top;\n",
       "    }\n",
       "\n",
       "    .dataframe thead th {\n",
       "        text-align: right;\n",
       "    }\n",
       "</style>\n",
       "<table border=\"1\" class=\"dataframe\">\n",
       "  <thead>\n",
       "    <tr style=\"text-align: right;\">\n",
       "      <th></th>\n",
       "      <th>text</th>\n",
       "      <th>Bueno</th>\n",
       "      <th>Malo</th>\n",
       "      <th>Neutral</th>\n",
       "    </tr>\n",
       "  </thead>\n",
       "  <tbody>\n",
       "    <tr>\n",
       "      <th>0</th>\n",
       "      <td>love amazing color black really hard see alway...</td>\n",
       "      <td>0.0</td>\n",
       "      <td>0.0</td>\n",
       "      <td>1.0</td>\n",
       "    </tr>\n",
       "    <tr>\n",
       "      <th>1</th>\n",
       "      <td>really like consistent bright throughout size ...</td>\n",
       "      <td>1.0</td>\n",
       "      <td>0.0</td>\n",
       "      <td>0.0</td>\n",
       "    </tr>\n",
       "    <tr>\n",
       "      <th>2</th>\n",
       "      <td>grand niece enjoy game</td>\n",
       "      <td>1.0</td>\n",
       "      <td>0.0</td>\n",
       "      <td>0.0</td>\n",
       "    </tr>\n",
       "    <tr>\n",
       "      <th>3</th>\n",
       "      <td>let say first unboxed mouse review base little...</td>\n",
       "      <td>0.0</td>\n",
       "      <td>1.0</td>\n",
       "      <td>0.0</td>\n",
       "    </tr>\n",
       "    <tr>\n",
       "      <th>4</th>\n",
       "      <td>kid love game he s</td>\n",
       "      <td>1.0</td>\n",
       "      <td>0.0</td>\n",
       "      <td>0.0</td>\n",
       "    </tr>\n",
       "  </tbody>\n",
       "</table>\n",
       "</div>"
      ],
      "text/plain": [
       "                                                text  Bueno  Malo  Neutral\n",
       "0  love amazing color black really hard see alway...    0.0   0.0      1.0\n",
       "1  really like consistent bright throughout size ...    1.0   0.0      0.0\n",
       "2                             grand niece enjoy game    1.0   0.0      0.0\n",
       "3  let say first unboxed mouse review base little...    0.0   1.0      0.0\n",
       "4                                 kid love game he s    1.0   0.0      0.0"
      ]
     },
     "execution_count": 55,
     "metadata": {},
     "output_type": "execute_result"
    }
   ],
   "source": [
    "df_processed.head()"
   ]
  },
  {
   "cell_type": "code",
   "execution_count": 56,
   "id": "a5fd5f6d",
   "metadata": {},
   "outputs": [
    {
     "data": {
      "text/plain": [
       "(184838, 4)"
      ]
     },
     "execution_count": 56,
     "metadata": {},
     "output_type": "execute_result"
    }
   ],
   "source": [
    "df_processed.shape"
   ]
  },
  {
   "cell_type": "code",
   "execution_count": 57,
   "id": "64e2646c",
   "metadata": {},
   "outputs": [
    {
     "data": {
      "text/plain": [
       "text       0\n",
       "Bueno      0\n",
       "Malo       0\n",
       "Neutral    0\n",
       "dtype: int64"
      ]
     },
     "execution_count": 57,
     "metadata": {},
     "output_type": "execute_result"
    }
   ],
   "source": [
    "df_processed.isna().sum()"
   ]
  }
 ],
 "metadata": {
  "kernelspec": {
   "display_name": "NLPEnv",
   "language": "python",
   "name": "python3"
  },
  "language_info": {
   "codemirror_mode": {
    "name": "ipython",
    "version": 3
   },
   "file_extension": ".py",
   "mimetype": "text/x-python",
   "name": "python",
   "nbconvert_exporter": "python",
   "pygments_lexer": "ipython3",
   "version": "3.11.11"
  }
 },
 "nbformat": 4,
 "nbformat_minor": 5
}
