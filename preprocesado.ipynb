{
 "cells": [
  {
   "cell_type": "code",
   "execution_count": 33,
   "id": "5305160e",
   "metadata": {},
   "outputs": [],
   "source": [
    "import sys\n",
    "sys.path.append('./')"
   ]
  },
  {
   "cell_type": "code",
   "execution_count": 34,
   "id": "9cda9806",
   "metadata": {},
   "outputs": [],
   "source": [
    "import pandas as pd\n",
    "from utils import limpiar_texto, path_exists\n",
    "from constants import CODIFIED_DF_PATH, PROCESSED_DF_PATH"
   ]
  },
  {
   "cell_type": "code",
   "execution_count": 40,
   "id": "e82f3602",
   "metadata": {},
   "outputs": [],
   "source": [
    "# Leemos el csv con los datos salidos del EDA\n",
    "df = pd.read_csv(CODIFIED_DF_PATH)"
   ]
  },
  {
   "cell_type": "code",
   "execution_count": 42,
   "id": "3e65b735",
   "metadata": {},
   "outputs": [
    {
     "data": {
      "text/html": [
       "<div>\n",
       "<style scoped>\n",
       "    .dataframe tbody tr th:only-of-type {\n",
       "        vertical-align: middle;\n",
       "    }\n",
       "\n",
       "    .dataframe tbody tr th {\n",
       "        vertical-align: top;\n",
       "    }\n",
       "\n",
       "    .dataframe thead th {\n",
       "        text-align: right;\n",
       "    }\n",
       "</style>\n",
       "<table border=\"1\" class=\"dataframe\">\n",
       "  <thead>\n",
       "    <tr style=\"text-align: right;\">\n",
       "      <th></th>\n",
       "      <th>text</th>\n",
       "      <th>Bueno</th>\n",
       "      <th>Malo</th>\n",
       "      <th>Neutral</th>\n",
       "    </tr>\n",
       "  </thead>\n",
       "  <tbody>\n",
       "    <tr>\n",
       "      <th>0</th>\n",
       "      <td>Kept my son occupied for just a short time.  H...</td>\n",
       "      <td>0.0</td>\n",
       "      <td>0.0</td>\n",
       "      <td>1.0</td>\n",
       "    </tr>\n",
       "    <tr>\n",
       "      <th>1</th>\n",
       "      <td>We got this because my daughter loves to dance...</td>\n",
       "      <td>0.0</td>\n",
       "      <td>1.0</td>\n",
       "      <td>0.0</td>\n",
       "    </tr>\n",
       "    <tr>\n",
       "      <th>2</th>\n",
       "      <td>Buttons stick</td>\n",
       "      <td>0.0</td>\n",
       "      <td>0.0</td>\n",
       "      <td>1.0</td>\n",
       "    </tr>\n",
       "    <tr>\n",
       "      <th>3</th>\n",
       "      <td>I would like to like this game, this type of g...</td>\n",
       "      <td>1.0</td>\n",
       "      <td>0.0</td>\n",
       "      <td>0.0</td>\n",
       "    </tr>\n",
       "    <tr>\n",
       "      <th>4</th>\n",
       "      <td>some games are hard to get out but it does wha...</td>\n",
       "      <td>0.0</td>\n",
       "      <td>0.0</td>\n",
       "      <td>1.0</td>\n",
       "    </tr>\n",
       "  </tbody>\n",
       "</table>\n",
       "</div>"
      ],
      "text/plain": [
       "                                                text  Bueno  Malo  Neutral\n",
       "0  Kept my son occupied for just a short time.  H...    0.0   0.0      1.0\n",
       "1  We got this because my daughter loves to dance...    0.0   1.0      0.0\n",
       "2                                      Buttons stick    0.0   0.0      1.0\n",
       "3  I would like to like this game, this type of g...    1.0   0.0      0.0\n",
       "4  some games are hard to get out but it does wha...    0.0   0.0      1.0"
      ]
     },
     "execution_count": 42,
     "metadata": {},
     "output_type": "execute_result"
    }
   ],
   "source": [
    "df.head()"
   ]
  },
  {
   "cell_type": "code",
   "execution_count": null,
   "id": "f80d4b52",
   "metadata": {},
   "outputs": [],
   "source": [
    "# Los pasamos a través de la función del preprocesamiento\n",
    "df_processed = pd.concat([df['text'].apply(limpiar_texto), df.drop(columns='text')], axis=1)"
   ]
  },
  {
   "cell_type": "code",
   "execution_count": 43,
   "id": "451afa31",
   "metadata": {},
   "outputs": [],
   "source": [
    "# Guardamos el df en caso de que no exista\n",
    "if not path_exists(PROCESSED_DF_PATH):\n",
    "    df_processed.to_csv(PROCESSED_DF_PATH, index=False)"
   ]
  }
 ],
 "metadata": {
  "kernelspec": {
   "display_name": "NLPEnv",
   "language": "python",
   "name": "python3"
  },
  "language_info": {
   "codemirror_mode": {
    "name": "ipython",
    "version": 3
   },
   "file_extension": ".py",
   "mimetype": "text/x-python",
   "name": "python",
   "nbconvert_exporter": "python",
   "pygments_lexer": "ipython3",
   "version": "3.11.11"
  }
 },
 "nbformat": 4,
 "nbformat_minor": 5
}
